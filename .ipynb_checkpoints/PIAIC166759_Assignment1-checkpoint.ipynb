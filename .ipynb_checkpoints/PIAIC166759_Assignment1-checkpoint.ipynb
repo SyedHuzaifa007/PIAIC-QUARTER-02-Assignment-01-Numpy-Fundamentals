{
 "cells": [
  {
   "cell_type": "markdown",
   "metadata": {
    "id": "NgUeapcvmIRh"
   },
   "source": [
    "# **Assignment For Numpy**"
   ]
  },
  {
   "cell_type": "markdown",
   "metadata": {
    "id": "yhr3JicwnA-4"
   },
   "source": [
    "Difficulty Level **Beginner**"
   ]
  },
  {
   "cell_type": "markdown",
   "metadata": {
    "id": "hVPqDJ1SnKSh"
   },
   "source": [
    "1. Import the numpy package under the name np"
   ]
  },
  {
   "cell_type": "code",
   "execution_count": 2,
   "metadata": {
    "id": "SePu31zKmgS-"
   },
   "outputs": [],
   "source": [
    "import numpy as np"
   ]
  },
  {
   "cell_type": "markdown",
   "metadata": {
    "id": "d0gO81krnL7g"
   },
   "source": [
    "2. Create a null vector of size 10 "
   ]
  },
  {
   "cell_type": "code",
   "execution_count": 9,
   "metadata": {
    "id": "2s6o2JPgnSBr"
   },
   "outputs": [
    {
     "name": "stdout",
     "output_type": "stream",
     "text": [
      "         THIS IS A NULL VECTOR OF SIZE '10'\n",
      "         ==================================\n"
     ]
    },
    {
     "data": {
      "text/plain": [
       "array([0., 0., 0., 0., 0., 0., 0., 0., 0., 0.])"
      ]
     },
     "execution_count": 9,
     "metadata": {},
     "output_type": "execute_result"
    }
   ],
   "source": [
    "arr10 = np.zeros((10))\n",
    "print(\"         THIS IS A NULL VECTOR OF SIZE '10'\")\n",
    "print(\"         ==================================\")\n",
    "arr10"
   ]
  },
  {
   "cell_type": "markdown",
   "metadata": {
    "id": "BJTMK03fnS1w"
   },
   "source": [
    "3. Create a vector with values ranging from 10 to 49"
   ]
  },
  {
   "cell_type": "code",
   "execution_count": 12,
   "metadata": {
    "id": "qRXxXuWdnj1M"
   },
   "outputs": [
    {
     "name": "stdout",
     "output_type": "stream",
     "text": [
      "         THIS IS A VECTOR WITH VALUES RANGING FROM '10' TO '49'\n",
      "         ======================================================\n"
     ]
    },
    {
     "data": {
      "text/plain": [
       "array([10, 11, 12, 13, 14, 15, 16, 17, 18, 19, 20, 21, 22, 23, 24, 25, 26,\n",
       "       27, 28, 29, 30, 31, 32, 33, 34, 35, 36, 37, 38, 39, 40, 41, 42, 43,\n",
       "       44, 45, 46, 47, 48, 49])"
      ]
     },
     "execution_count": 12,
     "metadata": {},
     "output_type": "execute_result"
    }
   ],
   "source": [
    "arr1 = np.arange(10,50)\n",
    "print(\"         THIS IS A VECTOR WITH VALUES RANGING FROM '10' TO '49'\")\n",
    "print(\"         ======================================================\")\n",
    "arr1"
   ]
  },
  {
   "cell_type": "markdown",
   "metadata": {
    "id": "n63lzg5Onkcn"
   },
   "source": [
    "4. Find the shape of previous array in question 3"
   ]
  },
  {
   "cell_type": "code",
   "execution_count": 255,
   "metadata": {
    "id": "1FueBdqPn_q7"
   },
   "outputs": [
    {
     "name": "stdout",
     "output_type": "stream",
     "text": [
      "THE SHAPE OF THE VECTOR IS:\n",
      "===========================\n"
     ]
    },
    {
     "data": {
      "text/plain": [
       "(2, 3)"
      ]
     },
     "execution_count": 255,
     "metadata": {},
     "output_type": "execute_result"
    }
   ],
   "source": [
    "print(\"THE SHAPE OF THE VECTOR IS:\")\n",
    "print(\"===========================\")\n",
    "arr1.shape\n"
   ]
  },
  {
   "cell_type": "markdown",
   "metadata": {
    "id": "AzMlQj1MoAVe"
   },
   "source": [
    "5. Print the type of the previous array in question 3"
   ]
  },
  {
   "cell_type": "code",
   "execution_count": 254,
   "metadata": {
    "id": "AO9PYmdWoE1L"
   },
   "outputs": [
    {
     "name": "stdout",
     "output_type": "stream",
     "text": [
      "TYPE OF THE VECTOR IS:\n",
      "======================\n"
     ]
    },
    {
     "data": {
      "text/plain": [
       "numpy.ndarray"
      ]
     },
     "execution_count": 254,
     "metadata": {},
     "output_type": "execute_result"
    }
   ],
   "source": [
    "print(\"TYPE OF THE VECTOR IS:\")\n",
    "print(\"======================\")\n",
    "type(arr1)"
   ]
  },
  {
   "cell_type": "markdown",
   "metadata": {
    "id": "0qaKS13Yon-U"
   },
   "source": [
    "6. Print the numpy version and the configuration\n"
   ]
  },
  {
   "cell_type": "code",
   "execution_count": 33,
   "metadata": {
    "id": "T3wY24e1oorh"
   },
   "outputs": [
    {
     "name": "stdout",
     "output_type": "stream",
     "text": [
      "NUMPY VERSION IS:\n",
      "=================\n"
     ]
    },
    {
     "data": {
      "text/plain": [
       "'1.19.4'"
      ]
     },
     "execution_count": 33,
     "metadata": {},
     "output_type": "execute_result"
    }
   ],
   "source": [
    "print(\"NUMPY VERSION IS:\")\n",
    "print(\"=================\")\n",
    "np.__version__"
   ]
  },
  {
   "cell_type": "code",
   "execution_count": 34,
   "metadata": {
    "id": "T3wY24e1oorh"
   },
   "outputs": [
    {
     "name": "stdout",
     "output_type": "stream",
     "text": [
      "NUMPY CONFIGURATION IS:\n",
      "=======================\n",
      "blas_mkl_info:\n",
      "  NOT AVAILABLE\n",
      "blis_info:\n",
      "  NOT AVAILABLE\n",
      "openblas_info:\n",
      "    library_dirs = ['D:\\\\a\\\\1\\\\s\\\\numpy\\\\build\\\\openblas_info']\n",
      "    libraries = ['openblas_info']\n",
      "    language = f77\n",
      "    define_macros = [('HAVE_CBLAS', None)]\n",
      "blas_opt_info:\n",
      "    library_dirs = ['D:\\\\a\\\\1\\\\s\\\\numpy\\\\build\\\\openblas_info']\n",
      "    libraries = ['openblas_info']\n",
      "    language = f77\n",
      "    define_macros = [('HAVE_CBLAS', None)]\n",
      "lapack_mkl_info:\n",
      "  NOT AVAILABLE\n",
      "openblas_lapack_info:\n",
      "    library_dirs = ['D:\\\\a\\\\1\\\\s\\\\numpy\\\\build\\\\openblas_lapack_info']\n",
      "    libraries = ['openblas_lapack_info']\n",
      "    language = f77\n",
      "    define_macros = [('HAVE_CBLAS', None)]\n",
      "lapack_opt_info:\n",
      "    library_dirs = ['D:\\\\a\\\\1\\\\s\\\\numpy\\\\build\\\\openblas_lapack_info']\n",
      "    libraries = ['openblas_lapack_info']\n",
      "    language = f77\n",
      "    define_macros = [('HAVE_CBLAS', None)]\n"
     ]
    }
   ],
   "source": [
    "print(\"NUMPY CONFIGURATION IS:\")\n",
    "print(\"=======================\")\n",
    "np.show_config()"
   ]
  },
  {
   "cell_type": "markdown",
   "metadata": {
    "id": "ZyUUiQf5oyvE"
   },
   "source": [
    "7. Print the dimension of the array in question 3\n"
   ]
  },
  {
   "cell_type": "code",
   "execution_count": 257,
   "metadata": {
    "id": "pLXfuIqIo0vq"
   },
   "outputs": [
    {
     "name": "stdout",
     "output_type": "stream",
     "text": [
      "DIMENSION OF ARRAY IS:\n",
      "======================\n"
     ]
    },
    {
     "data": {
      "text/plain": [
       "2"
      ]
     },
     "execution_count": 257,
     "metadata": {},
     "output_type": "execute_result"
    }
   ],
   "source": [
    "print(\"DIMENSION OF ARRAY IS:\")\n",
    "print(\"======================\")\n",
    "arr1.ndim"
   ]
  },
  {
   "cell_type": "markdown",
   "metadata": {
    "id": "JYVMuFrqpBdV"
   },
   "source": [
    "8. Create a boolean array with all the True values"
   ]
  },
  {
   "cell_type": "code",
   "execution_count": 258,
   "metadata": {
    "id": "3apZsISzpFKR"
   },
   "outputs": [
    {
     "name": "stdout",
     "output_type": "stream",
     "text": [
      "BOOLEAN ARRAY WITH ALL TRUE VALUES:\n",
      "===================================\n"
     ]
    },
    {
     "data": {
      "text/plain": [
       "array([[ True,  True,  True,  True,  True]])"
      ]
     },
     "execution_count": 258,
     "metadata": {},
     "output_type": "execute_result"
    }
   ],
   "source": [
    "print(\"BOOLEAN ARRAY WITH ALL TRUE VALUES:\")\n",
    "print(\"===================================\")\n",
    "boolean_array = np.ones((1,5),dtype = bool)\n",
    "boolean_array"
   ]
  },
  {
   "cell_type": "markdown",
   "metadata": {
    "id": "4zbBooWZpPBU"
   },
   "source": [
    "9. Create a two dimensional array\n",
    "\n",
    "\n"
   ]
  },
  {
   "cell_type": "code",
   "execution_count": 3,
   "metadata": {
    "id": "KfPQEiVIpdTo"
   },
   "outputs": [
    {
     "name": "stdout",
     "output_type": "stream",
     "text": [
      "TWO DIMENSIONAL ARRAY:\n",
      "======================\n"
     ]
    },
    {
     "data": {
      "text/plain": [
       "array([[1, 2],\n",
       "       [3, 4]])"
      ]
     },
     "execution_count": 3,
     "metadata": {},
     "output_type": "execute_result"
    }
   ],
   "source": [
    "print(\"TWO DIMENSIONAL ARRAY:\")\n",
    "print(\"======================\")\n",
    "arr2d = np.array(range(1,5)).reshape(2,2)\n",
    "arr2d"
   ]
  },
  {
   "cell_type": "markdown",
   "metadata": {
    "id": "do9wPAFbpqC7"
   },
   "source": [
    "10. Create a three dimensional array\n",
    "\n"
   ]
  },
  {
   "cell_type": "code",
   "execution_count": 253,
   "metadata": {
    "id": "ZCO_q-KZqAeW"
   },
   "outputs": [
    {
     "name": "stdout",
     "output_type": "stream",
     "text": [
      "THREE DIMENSIONAL ARRAY:\n",
      "========================\n"
     ]
    },
    {
     "data": {
      "text/plain": [
       "array([[1, 2, 3],\n",
       "       [4, 5, 6],\n",
       "       [7, 8, 9]])"
      ]
     },
     "execution_count": 253,
     "metadata": {},
     "output_type": "execute_result"
    }
   ],
   "source": [
    "print(\"THREE DIMENSIONAL ARRAY:\")\n",
    "print(\"========================\")\n",
    "arr3d = np.array(range(1,10)).reshape(3,3)\n",
    "arr3d"
   ]
  },
  {
   "cell_type": "markdown",
   "metadata": {
    "id": "a4iysJ87qEeb"
   },
   "source": [
    "Difficulty Level **Easy**"
   ]
  },
  {
   "cell_type": "markdown",
   "metadata": {
    "id": "DehgqszSqjY6"
   },
   "source": [
    "11. Reverse a vector (first element becomes last)"
   ]
  },
  {
   "cell_type": "code",
   "execution_count": 252,
   "metadata": {
    "id": "tfevmc4VqkWu"
   },
   "outputs": [
    {
     "name": "stdout",
     "output_type": "stream",
     "text": [
      "REVERSED ARRAY:\n",
      "===============\n"
     ]
    },
    {
     "data": {
      "text/plain": [
       "array([10,  9,  8,  7,  6,  5,  4,  3,  2,  1,  0])"
      ]
     },
     "execution_count": 252,
     "metadata": {},
     "output_type": "execute_result"
    }
   ],
   "source": [
    "vector = np.arange(11)\n",
    "# ORIGINAL ARRAY = [0,1,2,3,4,5,6,7,8,9,10]\n",
    "print(\"REVERSED ARRAY:\")\n",
    "print(\"===============\")\n",
    "vector[::-1]"
   ]
  },
  {
   "cell_type": "markdown",
   "metadata": {
    "id": "yoATXS-qqk_q"
   },
   "source": [
    "12. Create a null vector of size 10 but the fifth value which is 1 "
   ]
  },
  {
   "cell_type": "code",
   "execution_count": 251,
   "metadata": {
    "id": "AheZ32Owqpte"
   },
   "outputs": [
    {
     "name": "stdout",
     "output_type": "stream",
     "text": [
      "NULL VECTOR OF SIZE '10' WITH FIFTH VALUE '5':\n",
      "==============================================\n"
     ]
    },
    {
     "data": {
      "text/plain": [
       "array([0., 0., 0., 0., 1., 0., 0., 0., 0., 0.])"
      ]
     },
     "execution_count": 251,
     "metadata": {},
     "output_type": "execute_result"
    }
   ],
   "source": [
    "null_vector = np.zeros(10)\n",
    "null_vector[4] = 1\n",
    "print(\"NULL VECTOR OF SIZE '10' WITH FIFTH VALUE '5':\")\n",
    "print(\"==============================================\")\n",
    "null_vector"
   ]
  },
  {
   "cell_type": "markdown",
   "metadata": {
    "id": "RZRzOBbFsY0w"
   },
   "source": [
    "13. Create a 3x3 identity matrix"
   ]
  },
  {
   "cell_type": "code",
   "execution_count": 250,
   "metadata": {
    "id": "va2ou0BHsvEj"
   },
   "outputs": [
    {
     "name": "stdout",
     "output_type": "stream",
     "text": [
      "IDENTITY MATRIX OF SIZE '3x3':\n",
      "==============================\n"
     ]
    },
    {
     "data": {
      "text/plain": [
       "array([[1., 1., 1.],\n",
       "       [1., 1., 1.],\n",
       "       [1., 1., 1.]])"
      ]
     },
     "execution_count": 250,
     "metadata": {},
     "output_type": "execute_result"
    }
   ],
   "source": [
    "identity_matrix = np.ones((3,3))\n",
    "print(\"IDENTITY MATRIX OF SIZE '3x3':\")\n",
    "print(\"==============================\")\n",
    "identity_matrix"
   ]
  },
  {
   "cell_type": "markdown",
   "metadata": {
    "id": "lnN5drkUs6o2"
   },
   "source": [
    "14. arr = np.array([1, 2, 3, 4, 5]) \n",
    "\n",
    "---\n",
    "\n",
    " Convert the data type of the given array from int to float "
   ]
  },
  {
   "cell_type": "code",
   "execution_count": 249,
   "metadata": {
    "id": "59EIQt6otKUB"
   },
   "outputs": [
    {
     "name": "stdout",
     "output_type": "stream",
     "text": [
      "ARRAY AFTER CONVERSION INTO FLOAT:\n",
      "==================================\n"
     ]
    },
    {
     "data": {
      "text/plain": [
       "array([1., 2., 3., 4., 5.])"
      ]
     },
     "execution_count": 249,
     "metadata": {},
     "output_type": "execute_result"
    }
   ],
   "source": [
    "arr = np.array([1, 2, 3, 4, 5],dtype=float)\n",
    "print(\"ARRAY AFTER CONVERSION INTO FLOAT:\")\n",
    "print(\"==================================\")\n",
    "arr"
   ]
  },
  {
   "cell_type": "markdown",
   "metadata": {
    "id": "fSL2AKJetTes"
   },
   "source": [
    "15. arr1 =          np.array([[1., 2., 3.],\n",
    "\n",
    "                    [4., 5., 6.]])  \n",
    "                      \n",
    "    arr2 = np.array([[0., 4., 1.],\n",
    "     \n",
    "                   [7., 2., 12.]])\n",
    "\n",
    "---\n",
    "\n",
    "\n",
    "Multiply arr1 with arr2\n"
   ]
  },
  {
   "cell_type": "code",
   "execution_count": 248,
   "metadata": {
    "id": "7VDXgRQDuJNV"
   },
   "outputs": [
    {
     "name": "stdout",
     "output_type": "stream",
     "text": [
      "'arr1' AND 'arr2' AFTER MULTIPLICATION:\n",
      "=======================================\n"
     ]
    },
    {
     "data": {
      "text/plain": [
       "array([[ 0.,  8.,  3.],\n",
       "       [28., 10., 72.]])"
      ]
     },
     "execution_count": 248,
     "metadata": {},
     "output_type": "execute_result"
    }
   ],
   "source": [
    "arr1 = np.array([[1., 2., 3.],\n",
    "\n",
    "            [4., 5., 6.]])  \n",
    "arr2 = np.array([[0., 4., 1.],\n",
    "\n",
    "           [7., 2., 12.]])\n",
    "print(\"'arr1' AND 'arr2' AFTER MULTIPLICATION:\")\n",
    "print(\"=======================================\")\n",
    "arr1 * arr2"
   ]
  },
  {
   "cell_type": "markdown",
   "metadata": {
    "id": "a8yJ438-uKni"
   },
   "source": [
    "16. arr1 = np.array([[1., 2., 3.],\n",
    "                    [4., 5., 6.]]) \n",
    "                    \n",
    "    arr2 = np.array([[0., 4., 1.], \n",
    "                    [7., 2., 12.]])\n",
    "\n",
    "\n",
    "---\n",
    "\n",
    "Make an array by comparing both the arrays provided above"
   ]
  },
  {
   "cell_type": "code",
   "execution_count": 247,
   "metadata": {
    "id": "3MPDaAlYueF3"
   },
   "outputs": [
    {
     "name": "stdout",
     "output_type": "stream",
     "text": [
      "RESULTANT ARRAY:\n",
      "================\n"
     ]
    },
    {
     "data": {
      "text/plain": [
       "array([[1, 0, 1],\n",
       "       [0, 1, 0]], dtype=int64)"
      ]
     },
     "execution_count": 247,
     "metadata": {},
     "output_type": "execute_result"
    }
   ],
   "source": [
    "arr1 = np.array([[1., 2., 3.],\n",
    "\n",
    "            [4., 5., 6.]]) \n",
    "arr2 = np.array([[0., 4., 1.],\n",
    "\n",
    "            [7., 2., 12.]])\n",
    "arr3 = (arr1 > arr2)\n",
    "print(\"RESULTANT ARRAY:\")\n",
    "print(\"================\")\n",
    "arr3 = arr3.astype('int64') \n",
    "arr3"
   ]
  },
  {
   "cell_type": "markdown",
   "metadata": {
    "id": "3xiD0eJluewk"
   },
   "source": [
    "17. Extract all odd numbers from arr with values(0-9)"
   ]
  },
  {
   "cell_type": "code",
   "execution_count": 246,
   "metadata": {
    "id": "J_qbt_EuvM7l"
   },
   "outputs": [
    {
     "name": "stdout",
     "output_type": "stream",
     "text": [
      "THE EXTRACTED ODD NUMBERS ARE:\n",
      "==============================\n"
     ]
    },
    {
     "data": {
      "text/plain": [
       "array([1, 3, 5, 7, 9])"
      ]
     },
     "execution_count": 246,
     "metadata": {},
     "output_type": "execute_result"
    }
   ],
   "source": [
    "arr = np.array(range(0,10))\n",
    "print(\"THE EXTRACTED ODD NUMBERS ARE:\")\n",
    "print(\"==============================\")\n",
    "odd_num = arr[ arr % 2 != 0]\n",
    "odd_num"
   ]
  },
  {
   "cell_type": "markdown",
   "metadata": {
    "id": "zpg5cyLsvPoZ"
   },
   "source": [
    "18. Replace all odd numbers to -1 from previous array"
   ]
  },
  {
   "cell_type": "code",
   "execution_count": 245,
   "metadata": {
    "id": "rXUV1-ULvQdd"
   },
   "outputs": [
    {
     "name": "stdout",
     "output_type": "stream",
     "text": [
      "THE ARRAY AFTER REPLACING ODD NUMBERS WITH '-1':\n",
      "================================================\n"
     ]
    },
    {
     "data": {
      "text/plain": [
       "array([ 0, -1,  2, -1,  4, -1,  6, -1,  8, -1])"
      ]
     },
     "execution_count": 245,
     "metadata": {},
     "output_type": "execute_result"
    }
   ],
   "source": [
    "arr = np.array(range(0,10))\n",
    "print(\"THE ARRAY AFTER REPLACING ODD NUMBERS WITH '-1':\")\n",
    "print(\"================================================\")\n",
    "arr[ arr % 2 != 0] = -1\n",
    "arr"
   ]
  },
  {
   "cell_type": "markdown",
   "metadata": {
    "id": "FWpHTWTDvjvi"
   },
   "source": [
    "19. arr = np.arange(10)\n",
    "\n",
    "\n",
    "---\n",
    "\n",
    "Replace the values of indexes 5,6,7 and 8 to **12**"
   ]
  },
  {
   "cell_type": "code",
   "execution_count": 244,
   "metadata": {
    "id": "ensZ3lqwvlSb"
   },
   "outputs": [
    {
     "name": "stdout",
     "output_type": "stream",
     "text": [
      "THE ARRAY AFTER REPLACING THE VALUES OF INDEXES 5,6,7,8 TO '12':\n",
      "================================================================\n"
     ]
    },
    {
     "data": {
      "text/plain": [
       "array([ 0,  1,  2,  3,  4, 12, 12, 12, 12,  9])"
      ]
     },
     "execution_count": 244,
     "metadata": {},
     "output_type": "execute_result"
    }
   ],
   "source": [
    "arr = np.arange(10)\n",
    "print(\"THE ARRAY AFTER REPLACING THE VALUES OF INDEXES 5,6,7,8 TO '12':\")\n",
    "print(\"================================================================\")\n",
    "arr[5:9] = 12\n",
    "arr"
   ]
  },
  {
   "cell_type": "markdown",
   "metadata": {
    "id": "ib-vBffAv0zy"
   },
   "source": [
    "20. Create a 2d array with 1 on the border and 0 inside"
   ]
  },
  {
   "cell_type": "code",
   "execution_count": 243,
   "metadata": {
    "id": "RmzcjNYrwDrM"
   },
   "outputs": [
    {
     "name": "stdout",
     "output_type": "stream",
     "text": [
      "THIS IS AN 2D ARRAY WITH '1' ON THE BORDERS AND '0' INSIDE:\n",
      "===========================================================\n"
     ]
    },
    {
     "data": {
      "text/plain": [
       "array([[1., 1., 1., 1., 1.],\n",
       "       [1., 0., 0., 0., 1.],\n",
       "       [1., 0., 0., 0., 1.],\n",
       "       [1., 0., 0., 0., 1.],\n",
       "       [1., 1., 1., 1., 1.]])"
      ]
     },
     "execution_count": 243,
     "metadata": {},
     "output_type": "execute_result"
    }
   ],
   "source": [
    "pattern = np.ones((5,5))\n",
    "pattern\n",
    "pattern[1:-1,1:-1] = 0\n",
    "print(\"THIS IS AN 2D ARRAY WITH '1' ON THE BORDERS AND '0' INSIDE:\")\n",
    "print(\"===========================================================\")\n",
    "pattern"
   ]
  },
  {
   "cell_type": "markdown",
   "metadata": {
    "id": "E1diIFSEwEmh"
   },
   "source": [
    "Difficulty Level **Medium**"
   ]
  },
  {
   "cell_type": "markdown",
   "metadata": {
    "id": "eGLZmNb_wKb4"
   },
   "source": [
    "21. arr2d = np.array([[1, 2, 3],\n",
    "\n",
    "                    [4, 5, 6], \n",
    "\n",
    "                    [7, 8, 9]])\n",
    "\n",
    "---\n",
    "\n",
    "Replace the value 5 to 12"
   ]
  },
  {
   "cell_type": "code",
   "execution_count": 242,
   "metadata": {
    "id": "VdUnsUOZwJFz"
   },
   "outputs": [
    {
     "name": "stdout",
     "output_type": "stream",
     "text": [
      "ARRAY AFTER REPLACING THE VALUE '5' TO '12':\n",
      "============================================\n"
     ]
    },
    {
     "data": {
      "text/plain": [
       "array([[ 1,  2,  3],\n",
       "       [ 4, 12,  6],\n",
       "       [ 7,  8,  9]])"
      ]
     },
     "execution_count": 242,
     "metadata": {},
     "output_type": "execute_result"
    }
   ],
   "source": [
    "arr2d = np.array([[1, 2, 3],\n",
    "\n",
    "            [4, 5, 6], \n",
    "\n",
    "            [7, 8, 9]])\n",
    "print(\"ARRAY AFTER REPLACING THE VALUE '5' TO '12':\")\n",
    "print(\"============================================\")\n",
    "arr2d[1][1] = 12\n",
    "arr2d"
   ]
  },
  {
   "cell_type": "markdown",
   "metadata": {
    "id": "TEbFhlPZxaKO"
   },
   "source": [
    "22. arr3d = np.array([[[1, 2, 3], [4, 5, 6]], [[7, 8, 9], [10, 11, 12]]])\n",
    "\n",
    "---\n",
    "Convert all the values of 1st array to 64\n"
   ]
  },
  {
   "cell_type": "code",
   "execution_count": 241,
   "metadata": {
    "id": "eYzephU8xmsg"
   },
   "outputs": [
    {
     "name": "stdout",
     "output_type": "stream",
     "text": [
      "THE FULL ARRAY AFTER CONVERTING THE ELEMENTS OF FIRST ARRAY TO '64':\n",
      "====================================================================\n"
     ]
    },
    {
     "data": {
      "text/plain": [
       "array([[[64, 64, 64],\n",
       "        [ 4,  5,  6]],\n",
       "\n",
       "       [[ 7,  8,  9],\n",
       "        [10, 11, 12]]])"
      ]
     },
     "execution_count": 241,
     "metadata": {},
     "output_type": "execute_result"
    }
   ],
   "source": [
    "arr3d = np.array([[[1, 2, 3], [4, 5, 6]], [[7, 8, 9], [10, 11, 12]]])\n",
    "print(\"THE FULL ARRAY AFTER CONVERTING THE ELEMENTS OF FIRST ARRAY TO '64':\")\n",
    "print(\"====================================================================\")\n",
    "arr3d[0][0] = 64\n",
    "arr3d"
   ]
  },
  {
   "cell_type": "markdown",
   "metadata": {
    "id": "vZj0Ndvnx6f0"
   },
   "source": [
    "23. Make a 2-Dimensional array with values 0-9 and slice out the first 1st 1-D array from it"
   ]
  },
  {
   "cell_type": "code",
   "execution_count": 240,
   "metadata": {
    "id": "pM4e9YfdyHSv"
   },
   "outputs": [
    {
     "name": "stdout",
     "output_type": "stream",
     "text": [
      "THE FIRST 1D ARRAY AFTER SLICING:\n",
      "=================================\n"
     ]
    },
    {
     "data": {
      "text/plain": [
       "array([0, 1, 2, 3, 4])"
      ]
     },
     "execution_count": 240,
     "metadata": {},
     "output_type": "execute_result"
    }
   ],
   "source": [
    "arr2d = np.array(range(0,10)).reshape(2,5)\n",
    "arr2d\n",
    "print(\"THE FIRST 1D ARRAY AFTER SLICING:\")\n",
    "print(\"=================================\")\n",
    "arr2d[0]"
   ]
  },
  {
   "cell_type": "markdown",
   "metadata": {
    "id": "C3dkW0lZyVps"
   },
   "source": [
    "24. Make a 2-Dimensional array with values 0-9 and slice out the 2nd value from 2nd 1-D array from it"
   ]
  },
  {
   "cell_type": "code",
   "execution_count": 239,
   "metadata": {
    "id": "IrrzK2xgygqV"
   },
   "outputs": [
    {
     "name": "stdout",
     "output_type": "stream",
     "text": [
      "THE SECOND VALUE FROM SECOND 1D ARRAY:\n",
      "======================================\n"
     ]
    },
    {
     "data": {
      "text/plain": [
       "6"
      ]
     },
     "execution_count": 239,
     "metadata": {},
     "output_type": "execute_result"
    }
   ],
   "source": [
    "arr2d = np.array(range(0,10)).reshape(2,5)\n",
    "arr2d\n",
    "print(\"THE SECOND VALUE FROM SECOND 1D ARRAY:\")\n",
    "print(\"======================================\")\n",
    "arr2d[1][1]"
   ]
  },
  {
   "cell_type": "markdown",
   "metadata": {
    "id": "G3dLwOO9yyrE"
   },
   "source": [
    "25. Make a 2-Dimensional array with values 0-9 and slice out the third column but only the first two rows"
   ]
  },
  {
   "cell_type": "code",
   "execution_count": 238,
   "metadata": {
    "id": "5Bx4fqsLyqGD",
    "scrolled": true
   },
   "outputs": [
    {
     "name": "stdout",
     "output_type": "stream",
     "text": [
      "THE THIRD COLOUMN WITH ONLY FIRST TWO ROWS:\n",
      "===========================================\n"
     ]
    },
    {
     "data": {
      "text/plain": [
       "array([3, 6])"
      ]
     },
     "execution_count": 238,
     "metadata": {},
     "output_type": "execute_result"
    }
   ],
   "source": [
    "arr2d = np.array([[1, 2, 3],\n",
    "\n",
    "            [4, 5, 6], \n",
    "\n",
    "            [7, 8, 9]])\n",
    "print(\"THE THIRD COLOUMN WITH ONLY FIRST TWO ROWS:\")\n",
    "print(\"===========================================\")\n",
    "arr2d[:,2][0:2]"
   ]
  },
  {
   "cell_type": "markdown",
   "metadata": {
    "id": "CQ9YST5jy0IL"
   },
   "source": [
    "26. Create a 10x10 array with random values and find the minimum and maximum values"
   ]
  },
  {
   "cell_type": "code",
   "execution_count": 35,
   "metadata": {
    "id": "lhJPugjQzG6W"
   },
   "outputs": [
    {
     "name": "stdout",
     "output_type": "stream",
     "text": [
      "THIS IS A '10x10' ARRAY WITH RANDOM VALUES:\n",
      "===========================================\n"
     ]
    },
    {
     "data": {
      "text/plain": [
       "array([[ 0.63167499,  0.49944089,  1.08700023, -0.66312028,  0.61991808,\n",
       "        -0.03382286,  0.50240676, -0.68699623, -1.35479496,  0.81471804],\n",
       "       [-0.63429803,  1.35572974,  1.9089386 ,  0.07938783,  0.34249347,\n",
       "        -2.17768703,  1.76206119,  0.3042126 ,  0.73754098,  0.10432363],\n",
       "       [ 0.06371314,  0.27330868,  0.82491431, -0.88740936, -1.18522382,\n",
       "        -0.32196093, -1.25669236, -1.26541132,  1.30219667,  0.31895799],\n",
       "       [-0.97630123,  0.07865311,  1.48744517,  0.02022711, -1.15535681,\n",
       "        -0.39981157, -0.49233867,  0.29008668,  0.0881675 , -1.48782254],\n",
       "       [-0.32845631, -1.33229576,  0.25343628, -0.86349561,  0.52429201,\n",
       "         1.35332377, -0.66726675, -0.24912999, -0.43695212, -0.91993308],\n",
       "       [-0.98588709,  0.52143505,  1.57463823, -1.29750861,  0.74279799,\n",
       "        -0.84897493, -1.34023826,  0.55421608,  0.2826083 ,  0.56006363],\n",
       "       [ 0.95123342, -0.15814466,  0.93556024, -2.19795511, -0.13887259,\n",
       "         1.21630239,  0.30309121, -0.97010176, -0.84015708,  0.04216516],\n",
       "       [-0.70992922, -0.00278395,  0.57294265, -0.20133619, -0.46215373,\n",
       "        -0.25888288, -0.44469903, -0.61134438, -1.68423184, -1.44848531],\n",
       "       [-1.26939334,  2.06243563,  1.1495034 , -0.94481704, -0.98943784,\n",
       "        -0.06037909,  0.91955184,  0.09626413,  2.25889441, -1.39165328],\n",
       "       [ 0.98717398, -1.24929386, -1.13515904,  0.04988706,  1.68264589,\n",
       "         0.65172174, -1.12473772,  0.38710478, -0.03672178, -0.11389551]])"
      ]
     },
     "execution_count": 35,
     "metadata": {},
     "output_type": "execute_result"
    }
   ],
   "source": [
    "arr_rand = np.random.randn(100).reshape(10,10)\n",
    "print(\"THIS IS A '10x10' ARRAY WITH RANDOM VALUES:\")\n",
    "print(\"===========================================\")\n",
    "arr_rand"
   ]
  },
  {
   "cell_type": "code",
   "execution_count": 138,
   "metadata": {
    "id": "lhJPugjQzG6W"
   },
   "outputs": [
    {
     "name": "stdout",
     "output_type": "stream",
     "text": [
      "THE MAXIMUM VALUE IN THE PREVIOUS ARRAY IS:\n",
      "===========================================\n"
     ]
    },
    {
     "data": {
      "text/plain": [
       "2.941723831981237"
      ]
     },
     "execution_count": 138,
     "metadata": {},
     "output_type": "execute_result"
    }
   ],
   "source": [
    "print(\"THE MAXIMUM VALUE IN THE PREVIOUS ARRAY IS:\")\n",
    "print(\"===========================================\")\n",
    "arr_rand.max()"
   ]
  },
  {
   "cell_type": "code",
   "execution_count": 139,
   "metadata": {
    "id": "lhJPugjQzG6W"
   },
   "outputs": [
    {
     "name": "stdout",
     "output_type": "stream",
     "text": [
      "THE MINIMUM VALUE IN THE PREVIOUS ARRAY IS:\n",
      "===========================================\n"
     ]
    },
    {
     "data": {
      "text/plain": [
       "-1.8770757632055295"
      ]
     },
     "execution_count": 139,
     "metadata": {},
     "output_type": "execute_result"
    }
   ],
   "source": [
    "print(\"THE MINIMUM VALUE IN THE PREVIOUS ARRAY IS:\")\n",
    "print(\"===========================================\")\n",
    "arr_rand.min()"
   ]
  },
  {
   "cell_type": "markdown",
   "metadata": {
    "id": "cAgDt6KazHk6"
   },
   "source": [
    "27. a = np.array([1,2,3,2,3,4,3,4,5,6]) b = np.array([7,2,10,2,7,4,9,4,9,8])\n",
    "---\n",
    "Find the common items between a and b\n"
   ]
  },
  {
   "cell_type": "code",
   "execution_count": 237,
   "metadata": {
    "id": "kBXZanxIzs_F"
   },
   "outputs": [
    {
     "name": "stdout",
     "output_type": "stream",
     "text": [
      "THESE ARE THE COMMON ELEMENTS BETWEEN 'a' and  'b':\n",
      "===================================================\n"
     ]
    },
    {
     "data": {
      "text/plain": [
       "array([2, 2, 4, 4])"
      ]
     },
     "execution_count": 237,
     "metadata": {},
     "output_type": "execute_result"
    }
   ],
   "source": [
    "a = np.array([1,2,3,2,3,4,3,4,5,6]) \n",
    "b = np.array([7,2,10,2,7,4,9,4,9,8])\n",
    "print(\"THESE ARE THE COMMON ELEMENTS BETWEEN 'a' and  'b':\")\n",
    "print(\"===================================================\")\n",
    "a[a == b]"
   ]
  },
  {
   "cell_type": "markdown",
   "metadata": {
    "id": "lF9IzWOAztpD"
   },
   "source": [
    "28. a = np.array([1,2,3,2,3,4,3,4,5,6])\n",
    "b = np.array([7,2,10,2,7,4,9,4,9,8])\n",
    "\n",
    "---\n",
    "Find the positions where elements of a and b match\n",
    "\n"
   ]
  },
  {
   "cell_type": "code",
   "execution_count": 167,
   "metadata": {
    "id": "JR-mHQLH0HY_"
   },
   "outputs": [
    {
     "name": "stdout",
     "output_type": "stream",
     "text": [
      "THESE ARE THE POSITIONS WHERE THE ELEMENTS OF 'a' and 'b' MATCH:\n",
      "================================================================\n"
     ]
    },
    {
     "data": {
      "text/plain": [
       "(array([1, 3, 5, 7], dtype=int64),)"
      ]
     },
     "execution_count": 167,
     "metadata": {},
     "output_type": "execute_result"
    }
   ],
   "source": [
    "a = np.array([1,2,3,2,3,4,3,4,5,6])\n",
    "b = np.array([7,2,10,2,7,4,9,4,9,8])\n",
    "print(\"THESE ARE THE POSITIONS WHERE THE ELEMENTS OF 'a' and 'b' MATCH:\")\n",
    "print(\"================================================================\")\n",
    "np.where(a==b)"
   ]
  },
  {
   "cell_type": "markdown",
   "metadata": {
    "id": "mMDiefpH0H1x"
   },
   "source": [
    "29.  names = np.array(['Bob', 'Joe', 'Will', 'Bob', 'Will', 'Joe', 'Joe'])  data = np.random.randn(7, 4)\n",
    "\n",
    "---\n",
    "Find all the values from array **data** where the values from array **names** are not equal to **Will**\n"
   ]
  },
  {
   "cell_type": "code",
   "execution_count": 36,
   "metadata": {
    "id": "gfc1Lpf81ZSR"
   },
   "outputs": [
    {
     "name": "stdout",
     "output_type": "stream",
     "text": [
      "THESE ARE ALL THE VALUES FROM THE ARRAY 'data' WHERE THE VALUES FROM ARRAY 'names' ARE NOT EQUAL TO 'Will':\n",
      "===========================================================================================================\n"
     ]
    },
    {
     "data": {
      "text/plain": [
       "array([[-0.64152732,  1.04104101,  0.09530181,  0.10145964],\n",
       "       [ 0.33148677,  0.98994198, -1.59737021,  0.46972869],\n",
       "       [ 0.34739026,  0.03407923, -0.21894731, -0.82684301],\n",
       "       [ 0.07021729, -0.00387583, -0.05828844, -0.24032357],\n",
       "       [-0.23204833, -0.8204354 ,  0.42214081, -0.14044059]])"
      ]
     },
     "execution_count": 36,
     "metadata": {},
     "output_type": "execute_result"
    }
   ],
   "source": [
    "names = np.array(['Bob', 'Joe', 'Will', 'Bob', 'Will', 'Joe', 'Joe']) \n",
    "data = np.random.randn(7, 4)\n",
    "print(\"THESE ARE ALL THE VALUES FROM THE ARRAY 'data' WHERE THE VALUES FROM ARRAY 'names' ARE NOT EQUAL TO 'Will':\")\n",
    "print(\"===========================================================================================================\")\n",
    "data[names!='Will']"
   ]
  },
  {
   "cell_type": "markdown",
   "metadata": {
    "id": "52zEjDMf1aXS"
   },
   "source": [
    "30. names = np.array(['Bob', 'Joe', 'Will', 'Bob', 'Will', 'Joe', 'Joe']) data = np.random.randn(7, 4)\n",
    "\n",
    "---\n",
    "Find all the values from array **data** where the values from array **names** are not equal to **Will** and **Joe**\n",
    "\n"
   ]
  },
  {
   "cell_type": "code",
   "execution_count": 28,
   "metadata": {
    "id": "8RYG0kLO1mHw"
   },
   "outputs": [
    {
     "name": "stdout",
     "output_type": "stream",
     "text": [
      "THESE ARE ALL THE VALUES FROM THE ARRAY 'data' WHERE THE VALUES FROM ARRAY 'names' ARE NOT EQUAL TO 'Will' AND 'Joe':\n",
      "=====================================================================================================================\n"
     ]
    },
    {
     "data": {
      "text/plain": [
       "array([[-0.31753133,  1.04283553, -1.2209972 ,  0.88404262],\n",
       "       [ 0.94630989, -1.01141816,  0.10737417, -0.68216383],\n",
       "       [-0.75805557, -1.04853063,  0.10206568,  0.4321511 ]])"
      ]
     },
     "execution_count": 28,
     "metadata": {},
     "output_type": "execute_result"
    }
   ],
   "source": [
    "names = np.array(['Bob', 'Joe', 'Will', 'Bob', 'Will', 'Joe', 'Joe']) \n",
    "data = np.random.randn(7, 4)\n",
    "mask = (names != 'Will') & (names == 'Joe') \n",
    "print(\"THESE ARE ALL THE VALUES FROM THE ARRAY 'data' WHERE THE VALUES FROM ARRAY 'names' ARE NOT EQUAL TO 'Will' AND 'Joe':\")\n",
    "print(\"=====================================================================================================================\")\n",
    "data[mask]"
   ]
  },
  {
   "cell_type": "markdown",
   "metadata": {
    "id": "Q7hjf2bd2dCY"
   },
   "source": [
    "Difficulty Level **Hard**"
   ]
  },
  {
   "cell_type": "markdown",
   "metadata": {
    "id": "b48g7aRA2jVM"
   },
   "source": [
    "31. Create a 2D array of shape 5x3 to contain decimal numbers between 1 and 15."
   ]
  },
  {
   "cell_type": "code",
   "execution_count": 205,
   "metadata": {
    "id": "EbwfSCrW2f9_"
   },
   "outputs": [
    {
     "name": "stdout",
     "output_type": "stream",
     "text": [
      "THIS IS AN 2D ARRAY OF SHAPE '5x3' WITH RANDOM NUMBERS BETWEEN '1' TO '15':\n",
      "===========================================================================\n"
     ]
    },
    {
     "data": {
      "text/plain": [
       "array([[12, 11,  8],\n",
       "       [12,  1,  1],\n",
       "       [ 7,  9, 14],\n",
       "       [ 8, 12,  7],\n",
       "       [ 2, 13,  7]])"
      ]
     },
     "execution_count": 205,
     "metadata": {},
     "output_type": "execute_result"
    }
   ],
   "source": [
    "array = np.random.randint(low=1,high=15,size=(5,3))\n",
    "print(\"THIS IS AN 2D ARRAY OF SHAPE '5x3' WITH RANDOM NUMBERS BETWEEN '1' TO '15':\")\n",
    "print(\"===========================================================================\")\n",
    "array"
   ]
  },
  {
   "cell_type": "markdown",
   "metadata": {
    "id": "Ei_nDHtO3qBk"
   },
   "source": [
    "32. Create an array of shape (2, 2, 4) with decimal numbers between 1 to 16."
   ]
  },
  {
   "cell_type": "code",
   "execution_count": 207,
   "metadata": {
    "id": "phOxVpBM4M6D"
   },
   "outputs": [
    {
     "name": "stdout",
     "output_type": "stream",
     "text": [
      "THIS IS AN 2D ARRAY OF SHAPE '2,2,4' WITH RANDOM NUMBERS BETWEEN '1' TO '16':\n",
      "===========================================================================\n"
     ]
    },
    {
     "data": {
      "text/plain": [
       "array([[[ 4,  6, 13,  8],\n",
       "        [ 7,  5, 12,  5]],\n",
       "\n",
       "       [[10,  9, 12, 14],\n",
       "        [ 3, 15, 14, 10]]])"
      ]
     },
     "execution_count": 207,
     "metadata": {},
     "output_type": "execute_result"
    }
   ],
   "source": [
    "array3 = np.random.randint(low=1,high=16,size=(2,2,4))\n",
    "print(\"THIS IS AN 2D ARRAY OF SHAPE '2,2,4' WITH RANDOM NUMBERS BETWEEN '1' TO '16':\")\n",
    "print(\"===========================================================================\")\n",
    "array3"
   ]
  },
  {
   "cell_type": "markdown",
   "metadata": {
    "id": "uyiQaMjA4d_x"
   },
   "source": [
    "33. Swap axes of the array you created in Question 32"
   ]
  },
  {
   "cell_type": "code",
   "execution_count": 231,
   "metadata": {
    "id": "w2m9p8064VtR"
   },
   "outputs": [
    {
     "name": "stdout",
     "output_type": "stream",
     "text": [
      "SWAPPING THE AXES OF ABOVE ARRAY:\n",
      "=================================\n"
     ]
    },
    {
     "data": {
      "text/plain": [
       "array([[[ 4, 10],\n",
       "        [ 7,  3]],\n",
       "\n",
       "       [[ 6,  9],\n",
       "        [ 5, 15]],\n",
       "\n",
       "       [[13, 12],\n",
       "        [12, 14]],\n",
       "\n",
       "       [[ 8, 14],\n",
       "        [ 5, 10]]])"
      ]
     },
     "execution_count": 231,
     "metadata": {},
     "output_type": "execute_result"
    }
   ],
   "source": [
    "print(\"SWAPPING THE AXES OF ABOVE ARRAY:\")\n",
    "print(\"=================================\")\n",
    "np.swapaxes(array3,0,2)"
   ]
  },
  {
   "cell_type": "markdown",
   "metadata": {
    "id": "2dlU_yUR4mVZ"
   },
   "source": [
    "34. Create an array of size 10, and find the square root of every element in the array, if the values less than 0.5, replace them with 0"
   ]
  },
  {
   "cell_type": "code",
   "execution_count": 236,
   "metadata": {
    "id": "tmBabEJ-5JgB"
   },
   "outputs": [
    {
     "name": "stdout",
     "output_type": "stream",
     "text": [
      "THIS IS THE ARRAY AFTER SQUARING:\n",
      "=================================\n"
     ]
    },
    {
     "data": {
      "text/plain": [
       "array([0.        , 1.        , 1.41421356, 1.73205081, 2.        ,\n",
       "       2.23606798, 2.44948974, 2.64575131, 2.82842712, 3.        ])"
      ]
     },
     "execution_count": 236,
     "metadata": {},
     "output_type": "execute_result"
    }
   ],
   "source": [
    "arr10 = np.array(range(10))\n",
    "print(\"THIS IS THE ARRAY AFTER SQUARING:\")\n",
    "print(\"=================================\")\n",
    "arr10squared = np.sqrt(arr10)\n",
    "np.where(arr10squared<0.5,0,arr10squared)"
   ]
  },
  {
   "cell_type": "markdown",
   "metadata": {
    "id": "SNAM4dpu5RKA"
   },
   "source": [
    "35. Create two random arrays of range 12 and make an array with the maximum values between each element of the two arrays"
   ]
  },
  {
   "cell_type": "code",
   "execution_count": 30,
   "metadata": {
    "id": "3pxebU2b5q9Z"
   },
   "outputs": [
    {
     "name": "stdout",
     "output_type": "stream",
     "text": [
      "THIS IS THE ARRAY WITH THE MAXIMUM VALUES BETWEEN EACH ELEMENT OF THE TWO ARRAYS:\n",
      "=================================================================================\n"
     ]
    },
    {
     "data": {
      "text/plain": [
       "array([ 0.96310167, -0.29156602,  0.04852406,  0.02682782,  1.47518195,\n",
       "        0.86666955, -0.34482492,  2.10345723,  1.60154994,  1.01818773,\n",
       "       -0.53525779, -0.09149853])"
      ]
     },
     "execution_count": 30,
     "metadata": {},
     "output_type": "execute_result"
    }
   ],
   "source": [
    "arr1 = np.random.randn(12)\n",
    "arr2 = np.random.randn(12)\n",
    "maximum = np.maximum(arr1,arr2)\n",
    "print(\"THIS IS THE ARRAY WITH THE MAXIMUM VALUES BETWEEN EACH ELEMENT OF THE TWO ARRAYS:\")\n",
    "print(\"=================================================================================\")\n",
    "maximum"
   ]
  },
  {
   "cell_type": "markdown",
   "metadata": {
    "id": "fz_bpqm28qmD"
   },
   "source": [
    "36. names = np.array(['Bob', 'Joe', 'Will', 'Bob', 'Will', 'Joe', 'Joe'])\n",
    "\n",
    "---\n",
    "Find the unique names and sort them out!\n"
   ]
  },
  {
   "cell_type": "code",
   "execution_count": 235,
   "metadata": {
    "id": "hiSNMgcY87Ey"
   },
   "outputs": [
    {
     "name": "stdout",
     "output_type": "stream",
     "text": [
      "THESE ARE THE UNIQUE NAMES AFTER SORTING:\n",
      "=========================================\n"
     ]
    },
    {
     "data": {
      "text/plain": [
       "array(['Bob', 'Joe', 'Will'], dtype='<U4')"
      ]
     },
     "execution_count": 235,
     "metadata": {},
     "output_type": "execute_result"
    }
   ],
   "source": [
    "names = np.array(['Bob', 'Joe', 'Will', 'Bob', 'Will', 'Joe', 'Joe'])\n",
    "print(\"THESE ARE THE UNIQUE NAMES AFTER SORTING:\")\n",
    "print(\"=========================================\")\n",
    "unique = np.unique(names)\n",
    "unique"
   ]
  },
  {
   "cell_type": "markdown",
   "metadata": {
    "id": "dguMNzob870H"
   },
   "source": [
    "37. a = np.array([1,2,3,4,5])\n",
    "b = np.array([5,6,7,8,9])\n",
    "\n",
    "---\n",
    "From array a remove all items present in array b\n",
    "\n"
   ]
  },
  {
   "cell_type": "code",
   "execution_count": 16,
   "metadata": {
    "id": "eCNJXPvK9IAr"
   },
   "outputs": [
    {
     "name": "stdout",
     "output_type": "stream",
     "text": [
      "THIS ARRAY 'a' AFTER REMOVING ALL THE ELEMENTS PRESENT IN ARRAY 'b':\n",
      "====================================================================\n"
     ]
    },
    {
     "data": {
      "text/plain": [
       "array([1, 2, 3, 4])"
      ]
     },
     "execution_count": 16,
     "metadata": {},
     "output_type": "execute_result"
    }
   ],
   "source": [
    "a = np.array([1,2,3,4,5])\n",
    "b = np.array([5,6,7,8,9])\n",
    "result = np.setdiff1d(a, b)\n",
    "print(\"THIS ARRAY 'a' AFTER REMOVING ALL THE ELEMENTS PRESENT IN ARRAY 'b':\")\n",
    "print(\"====================================================================\")\n",
    "result    "
   ]
  },
  {
   "cell_type": "markdown",
   "metadata": {
    "id": "gz4Dvd4b_Akh"
   },
   "source": [
    "38.  Following is the input NumPy array delete column two and insert following new column in its place.\n",
    "\n",
    "---\n",
    "sampleArray = numpy.array([[34,43,73],[82,22,12],[53,94,66]]) \n",
    "\n",
    "\n",
    "---\n",
    "\n",
    "newColumn = numpy.array([[10,10,10]])\n"
   ]
  },
  {
   "cell_type": "code",
   "execution_count": 232,
   "metadata": {
    "id": "lLWAJWJJ_I3d"
   },
   "outputs": [
    {
     "name": "stdout",
     "output_type": "stream",
     "text": [
      "THIS IS THE ARRAY AFTER CHANGING THE COLOUMN TWO:\n",
      "=================================================\n"
     ]
    },
    {
     "data": {
      "text/plain": [
       "array([[34, 10, 73],\n",
       "       [82, 10, 12],\n",
       "       [53, 10, 66]])"
      ]
     },
     "execution_count": 232,
     "metadata": {},
     "output_type": "execute_result"
    }
   ],
   "source": [
    "sampleArray = np.array([[34,43,73],[82,22,12],[53,94,66]])\n",
    "sampleArray[1:-1]\n",
    "# sampleArray[1]\n",
    "sampleArray[:,1][:] = [10,10,10]\n",
    "print(\"THIS IS THE ARRAY AFTER CHANGING THE COLOUMN TWO:\")\n",
    "print(\"=================================================\")\n",
    "sampleArray"
   ]
  },
  {
   "cell_type": "markdown",
   "metadata": {
    "id": "1lIfmbQt_J_W"
   },
   "source": [
    "39. x = np.array([[1., 2., 3.], [4., 5., 6.]]) y = np.array([[6., 23.], [-1, 7], [8, 9]])\n",
    "\n",
    "\n",
    "---\n",
    "Find the dot product of the above two matrix\n"
   ]
  },
  {
   "cell_type": "code",
   "execution_count": 233,
   "metadata": {
    "id": "fV2-vXcR_vmu"
   },
   "outputs": [
    {
     "name": "stdout",
     "output_type": "stream",
     "text": [
      "DOT PRODUCT OF MATRIX 'x' AND 'y':\n",
      "==================================\n"
     ]
    },
    {
     "data": {
      "text/plain": [
       "array([[ 28.,  64.],\n",
       "       [ 67., 181.]])"
      ]
     },
     "execution_count": 233,
     "metadata": {},
     "output_type": "execute_result"
    }
   ],
   "source": [
    "x = np.array([[1., 2., 3.], [4., 5., 6.]]) \n",
    "y = np.array([[6., 23.], [-1, 7], [8, 9]])\n",
    "print(\"DOT PRODUCT OF MATRIX 'x' AND 'y':\")\n",
    "print(\"==================================\")\n",
    "np.dot(x,y)\n"
   ]
  },
  {
   "cell_type": "markdown",
   "metadata": {
    "id": "5U-4odUw_wP0"
   },
   "source": [
    "40. Generate a matrix of 20 random values and find its cumulative sum"
   ]
  },
  {
   "cell_type": "code",
   "execution_count": 234,
   "metadata": {
    "id": "_oOHdiYEAF8N"
   },
   "outputs": [
    {
     "name": "stdout",
     "output_type": "stream",
     "text": [
      "COMMULATIVE SUM OF THE MATRIX:\n",
      "==============================\n"
     ]
    },
    {
     "data": {
      "text/plain": [
       "array([-1.23781848, -0.39671391,  1.24491836,  0.664885  ,  0.59894649,\n",
       "       -1.17418235,  0.20297133, -0.95659643, -1.3612812 , -0.2990565 ,\n",
       "        0.35906606,  0.82784343, -1.24671813, -3.18694336, -2.40735287,\n",
       "       -1.85910665, -1.06731036,  0.70826548,  1.00974087,  1.07742111])"
      ]
     },
     "execution_count": 234,
     "metadata": {},
     "output_type": "execute_result"
    }
   ],
   "source": [
    "matrix = np.random.randn(20)\n",
    "commulative_sum = matrix.cumsum()\n",
    "print(\"COMMULATIVE SUM OF THE MATRIX:\")\n",
    "print(\"==============================\")\n",
    "commulative_sum"
   ]
  }
 ],
 "metadata": {
  "colab": {
   "name": "Numpy-Assignment-PIAIC-Batch35-Q2.ipynb",
   "provenance": []
  },
  "kernelspec": {
   "display_name": "Python 3",
   "language": "python",
   "name": "python3"
  },
  "language_info": {
   "codemirror_mode": {
    "name": "ipython",
    "version": 3
   },
   "file_extension": ".py",
   "mimetype": "text/x-python",
   "name": "python",
   "nbconvert_exporter": "python",
   "pygments_lexer": "ipython3",
   "version": "3.9.0"
  }
 },
 "nbformat": 4,
 "nbformat_minor": 1
}
